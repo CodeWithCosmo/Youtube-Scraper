{
 "cells": [
  {
   "cell_type": "code",
   "execution_count": 2,
   "metadata": {},
   "outputs": [],
   "source": [
    "from bs4 import BeautifulSoup\n",
    "from selenium import webdriver"
   ]
  },
  {
   "cell_type": "code",
   "execution_count": 42,
   "metadata": {},
   "outputs": [
    {
     "data": {
      "text/plain": [
       "'https://www.youtube.com/watch?v=rLfaX6JtoDg'"
      ]
     },
     "execution_count": 42,
     "metadata": {},
     "output_type": "execute_result"
    }
   ],
   "source": [
    "url = f\"https://www.youtube.com/@krishnaik06/videos\"\n",
    "options = webdriver.ChromeOptions()\n",
    "options.add_argument(\"--headless\")\n",
    "driver = webdriver.Chrome(options=options)\n",
    "driver.get(url)\n",
    "driver.execute_script(\"window.scrollTo(0,500)\", \"\")\n",
    "soup = BeautifulSoup(driver.page_source, \"html.parser\")\n",
    "video_link = \"https://www.youtube.com\" + str((soup.find(\"a\", {\"id\": \"video-title-link\"})).get(\"href\"))\n",
    "driver.close()\n",
    "video_link"
   ]
  },
  {
   "cell_type": "code",
   "execution_count": 26,
   "metadata": {},
   "outputs": [],
   "source": [
    "def get_video_info(url):\n",
    "    driver.get(url)\n",
    "    driver.execute_script(\"window.scrollTo(0,500)\", \"\")\n",
    "    soup = BeautifulSoup(driver.page_source, \"html.parser\")\n",
    "    scrapes = []\n",
    "    for i in range(5):\n",
    "        title = (soup.find_all(\"a\", {\"id\": \"video-title-link\"}))[i].text\n",
    "        view = (soup.find_all(\"div\", {\"id\": \"metadata\"}))[i].find_all(\"span\")[1].text\n",
    "        upload = (soup.find_all(\"div\", {\"id\": \"metadata\"}))[i].find_all(\"span\")[2].text\n",
    "        video_link = \"https://www.youtube.com\" + str((soup.find_all(\"a\", {\"id\": \"video-title-link\"}))[i].get(\"href\"))\n",
    "        thumbnail_link = (soup.find_all(\"img\", {\"class\": \"yt-core-image--fill-parent-height\"}))[i].get(\"src\")[0:48]\n",
    "        \n",
    "        data = {\n",
    "            \"Title\": title,\n",
    "            \"Views\": view,\n",
    "            \"Upload\": upload,\n",
    "            \"Video Link\": video_link,\n",
    "            \"Thumbnail Link\": thumbnail_link\n",
    "            }\n",
    "        scrapes.append(data)\n",
    "    return scrapes"
   ]
  },
  {
   "cell_type": "code",
   "execution_count": 27,
   "metadata": {},
   "outputs": [
    {
     "ename": "TypeError",
     "evalue": "'NoneType' object is not subscriptable",
     "output_type": "error",
     "traceback": [
      "\u001b[1;31m---------------------------------------------------------------------------\u001b[0m",
      "\u001b[1;31mTypeError\u001b[0m                                 Traceback (most recent call last)",
      "\u001b[1;32md:\\Projects\\YoutubeScraper\\text.ipynb Cell 4\u001b[0m line \u001b[0;36m1\n\u001b[1;32m----> <a href='vscode-notebook-cell:/d%3A/Projects/YoutubeScraper/text.ipynb#W3sZmlsZQ%3D%3D?line=0'>1</a>\u001b[0m get_video_info(url)\n",
      "\u001b[1;32md:\\Projects\\YoutubeScraper\\text.ipynb Cell 4\u001b[0m line \u001b[0;36m1\n\u001b[0;32m      <a href='vscode-notebook-cell:/d%3A/Projects/YoutubeScraper/text.ipynb#W3sZmlsZQ%3D%3D?line=8'>9</a>\u001b[0m upload \u001b[39m=\u001b[39m (soup\u001b[39m.\u001b[39mfind_all(\u001b[39m\"\u001b[39m\u001b[39mdiv\u001b[39m\u001b[39m\"\u001b[39m, {\u001b[39m\"\u001b[39m\u001b[39mid\u001b[39m\u001b[39m\"\u001b[39m: \u001b[39m\"\u001b[39m\u001b[39mmetadata\u001b[39m\u001b[39m\"\u001b[39m}))[i]\u001b[39m.\u001b[39mfind_all(\u001b[39m\"\u001b[39m\u001b[39mspan\u001b[39m\u001b[39m\"\u001b[39m)[\u001b[39m2\u001b[39m]\u001b[39m.\u001b[39mtext\n\u001b[0;32m     <a href='vscode-notebook-cell:/d%3A/Projects/YoutubeScraper/text.ipynb#W3sZmlsZQ%3D%3D?line=9'>10</a>\u001b[0m video_link \u001b[39m=\u001b[39m \u001b[39m\"\u001b[39m\u001b[39mhttps://www.youtube.com\u001b[39m\u001b[39m\"\u001b[39m \u001b[39m+\u001b[39m \u001b[39mstr\u001b[39m((soup\u001b[39m.\u001b[39mfind_all(\u001b[39m\"\u001b[39m\u001b[39ma\u001b[39m\u001b[39m\"\u001b[39m, {\u001b[39m\"\u001b[39m\u001b[39mid\u001b[39m\u001b[39m\"\u001b[39m: \u001b[39m\"\u001b[39m\u001b[39mvideo-title-link\u001b[39m\u001b[39m\"\u001b[39m}))[i]\u001b[39m.\u001b[39mget(\u001b[39m\"\u001b[39m\u001b[39mhref\u001b[39m\u001b[39m\"\u001b[39m))\n\u001b[1;32m---> <a href='vscode-notebook-cell:/d%3A/Projects/YoutubeScraper/text.ipynb#W3sZmlsZQ%3D%3D?line=10'>11</a>\u001b[0m thumbnail_link \u001b[39m=\u001b[39m (soup\u001b[39m.\u001b[39;49mfind_all(\u001b[39m\"\u001b[39;49m\u001b[39mimg\u001b[39;49m\u001b[39m\"\u001b[39;49m, {\u001b[39m\"\u001b[39;49m\u001b[39mclass\u001b[39;49m\u001b[39m\"\u001b[39;49m: \u001b[39m\"\u001b[39;49m\u001b[39myt-core-image--fill-parent-height\u001b[39;49m\u001b[39m\"\u001b[39;49m}))[i]\u001b[39m.\u001b[39;49mget(\u001b[39m\"\u001b[39;49m\u001b[39msrc\u001b[39;49m\u001b[39m\"\u001b[39;49m)[\u001b[39m0\u001b[39;49m:\u001b[39m48\u001b[39;49m]\n\u001b[0;32m     <a href='vscode-notebook-cell:/d%3A/Projects/YoutubeScraper/text.ipynb#W3sZmlsZQ%3D%3D?line=12'>13</a>\u001b[0m data \u001b[39m=\u001b[39m {\n\u001b[0;32m     <a href='vscode-notebook-cell:/d%3A/Projects/YoutubeScraper/text.ipynb#W3sZmlsZQ%3D%3D?line=13'>14</a>\u001b[0m     \u001b[39m\"\u001b[39m\u001b[39mTitle\u001b[39m\u001b[39m\"\u001b[39m: title,\n\u001b[0;32m     <a href='vscode-notebook-cell:/d%3A/Projects/YoutubeScraper/text.ipynb#W3sZmlsZQ%3D%3D?line=14'>15</a>\u001b[0m     \u001b[39m\"\u001b[39m\u001b[39mViews\u001b[39m\u001b[39m\"\u001b[39m: view,\n\u001b[1;32m   (...)\u001b[0m\n\u001b[0;32m     <a href='vscode-notebook-cell:/d%3A/Projects/YoutubeScraper/text.ipynb#W3sZmlsZQ%3D%3D?line=17'>18</a>\u001b[0m     \u001b[39m\"\u001b[39m\u001b[39mThumbnail Link\u001b[39m\u001b[39m\"\u001b[39m: thumbnail_link\n\u001b[0;32m     <a href='vscode-notebook-cell:/d%3A/Projects/YoutubeScraper/text.ipynb#W3sZmlsZQ%3D%3D?line=18'>19</a>\u001b[0m     }\n\u001b[0;32m     <a href='vscode-notebook-cell:/d%3A/Projects/YoutubeScraper/text.ipynb#W3sZmlsZQ%3D%3D?line=19'>20</a>\u001b[0m scrapes\u001b[39m.\u001b[39mappend(data)\n",
      "\u001b[1;31mTypeError\u001b[0m: 'NoneType' object is not subscriptable"
     ]
    }
   ],
   "source": [
    "get_video_info(url)"
   ]
  },
  {
   "cell_type": "code",
   "execution_count": 1,
   "metadata": {},
   "outputs": [],
   "source": [
    "list_of_dict = [{\"Title\": \"Title\", \"Views\": \"Views\", \"Upload\": \"Upload\", \"Video Link\": \"Video Link\", \"Thumbnail Link\": \"Thumbnail Link\"}]"
   ]
  },
  {
   "cell_type": "code",
   "execution_count": 2,
   "metadata": {},
   "outputs": [],
   "source": [
    "import pandas as pd"
   ]
  },
  {
   "cell_type": "code",
   "execution_count": 3,
   "metadata": {},
   "outputs": [
    {
     "data": {
      "text/html": [
       "<div>\n",
       "<style scoped>\n",
       "    .dataframe tbody tr th:only-of-type {\n",
       "        vertical-align: middle;\n",
       "    }\n",
       "\n",
       "    .dataframe tbody tr th {\n",
       "        vertical-align: top;\n",
       "    }\n",
       "\n",
       "    .dataframe thead th {\n",
       "        text-align: right;\n",
       "    }\n",
       "</style>\n",
       "<table border=\"1\" class=\"dataframe\">\n",
       "  <thead>\n",
       "    <tr style=\"text-align: right;\">\n",
       "      <th></th>\n",
       "      <th>Title</th>\n",
       "      <th>Views</th>\n",
       "      <th>Upload</th>\n",
       "      <th>Video Link</th>\n",
       "      <th>Thumbnail Link</th>\n",
       "    </tr>\n",
       "  </thead>\n",
       "  <tbody>\n",
       "    <tr>\n",
       "      <th>0</th>\n",
       "      <td>Title</td>\n",
       "      <td>Views</td>\n",
       "      <td>Upload</td>\n",
       "      <td>Video Link</td>\n",
       "      <td>Thumbnail Link</td>\n",
       "    </tr>\n",
       "  </tbody>\n",
       "</table>\n",
       "</div>"
      ],
      "text/plain": [
       "   Title  Views  Upload  Video Link  Thumbnail Link\n",
       "0  Title  Views  Upload  Video Link  Thumbnail Link"
      ]
     },
     "execution_count": 3,
     "metadata": {},
     "output_type": "execute_result"
    }
   ],
   "source": [
    "pd.DataFrame(list_of_dict)"
   ]
  }
 ],
 "metadata": {
  "kernelspec": {
   "display_name": "base",
   "language": "python",
   "name": "python3"
  },
  "language_info": {
   "codemirror_mode": {
    "name": "ipython",
    "version": 3
   },
   "file_extension": ".py",
   "mimetype": "text/x-python",
   "name": "python",
   "nbconvert_exporter": "python",
   "pygments_lexer": "ipython3",
   "version": "3.9.18"
  },
  "orig_nbformat": 4
 },
 "nbformat": 4,
 "nbformat_minor": 2
}
